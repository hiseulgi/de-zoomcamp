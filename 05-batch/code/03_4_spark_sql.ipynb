{
 "cells": [
  {
   "cell_type": "markdown",
   "metadata": {},
   "source": [
    "## Setup Spark Session"
   ]
  },
  {
   "cell_type": "code",
   "execution_count": 1,
   "metadata": {},
   "outputs": [
    {
     "name": "stderr",
     "output_type": "stream",
     "text": [
      "24/03/02 19:32:53 WARN Utils: Your hostname, sugab-archlinux resolves to a loopback address: 127.0.1.1; using 192.168.1.121 instead (on interface wlan0)\n",
      "24/03/02 19:32:53 WARN Utils: Set SPARK_LOCAL_IP if you need to bind to another address\n",
      "Setting default log level to \"WARN\".\n",
      "To adjust logging level use sc.setLogLevel(newLevel). For SparkR, use setLogLevel(newLevel).\n",
      "24/03/02 19:32:54 WARN NativeCodeLoader: Unable to load native-hadoop library for your platform... using builtin-java classes where applicable\n"
     ]
    }
   ],
   "source": [
    "import pyspark\n",
    "from pyspark.sql import SparkSession\n",
    "\n",
    "spark = SparkSession.builder.master(\"local[*]\").appName(\"test\").getOrCreate()"
   ]
  },
  {
   "cell_type": "markdown",
   "metadata": {},
   "source": [
    "## Dataset Preparation"
   ]
  },
  {
   "cell_type": "markdown",
   "metadata": {},
   "source": [
    "### Combine 2 Datasets (Green and Yellow)"
   ]
  },
  {
   "cell_type": "code",
   "execution_count": 5,
   "metadata": {},
   "outputs": [],
   "source": [
    "# read all green taxi data\n",
    "df_green = spark.read.parquet(\"data/raw/green/*/*\")\n",
    "df_green = df_green \\\n",
    "    .withColumnRenamed(\"lpep_pickup_datetime\", \"pickup_datetime\") \\\n",
    "    .withColumnRenamed(\"lpep_dropoff_datetime\", \"dropoff_datetime\")"
   ]
  },
  {
   "cell_type": "code",
   "execution_count": 7,
   "metadata": {},
   "outputs": [],
   "source": [
    "# read all yellow taxi data\n",
    "df_yellow = spark.read.parquet(\"data/raw/yellow/*/*\")\n",
    "df_yellow = df_yellow \\\n",
    "    .withColumnRenamed(\"tpep_pickup_datetime\", \"pickup_datetime\") \\\n",
    "    .withColumnRenamed(\"tpep_dropoff_datetime\", \"dropoff_datetime\")"
   ]
  },
  {
   "cell_type": "markdown",
   "metadata": {},
   "source": [
    "### Change Column Names"
   ]
  },
  {
   "cell_type": "code",
   "execution_count": 8,
   "metadata": {},
   "outputs": [],
   "source": [
    "# set the column names to be the same\n",
    "common_colums = []\n",
    "\n",
    "yellow_columns = set(df_yellow.columns)\n",
    "\n",
    "for col in df_green.columns:\n",
    "    if col in yellow_columns:\n",
    "        common_colums.append(col)"
   ]
  },
  {
   "cell_type": "markdown",
   "metadata": {},
   "source": [
    "### Add a new column for the type of taxi"
   ]
  },
  {
   "cell_type": "code",
   "execution_count": 9,
   "metadata": {},
   "outputs": [],
   "source": [
    "from pyspark.sql import functions as F"
   ]
  },
  {
   "cell_type": "code",
   "execution_count": 10,
   "metadata": {},
   "outputs": [],
   "source": [
    "df_green_sel = df_green \\\n",
    "    .select(common_colums) \\\n",
    "    .withColumn('service_type', F.lit('green'))"
   ]
  },
  {
   "cell_type": "code",
   "execution_count": 11,
   "metadata": {},
   "outputs": [],
   "source": [
    "\n",
    "df_yellow_sel = df_yellow \\\n",
    "    .select(common_colums) \\\n",
    "    .withColumn('service_type', F.lit('yellow'))"
   ]
  },
  {
   "cell_type": "markdown",
   "metadata": {},
   "source": [
    "### Union the 2 datasets"
   ]
  },
  {
   "cell_type": "code",
   "execution_count": 13,
   "metadata": {},
   "outputs": [
    {
     "name": "stderr",
     "output_type": "stream",
     "text": [
      "[Stage 6:================================================>        (11 + 2) / 13]\r"
     ]
    },
    {
     "name": "stdout",
     "output_type": "stream",
     "text": [
      "+------------+--------+\n",
      "|service_type|   count|\n",
      "+------------+--------+\n",
      "|       green| 2802931|\n",
      "|      yellow|55553400|\n",
      "+------------+--------+\n",
      "\n"
     ]
    },
    {
     "name": "stderr",
     "output_type": "stream",
     "text": [
      "                                                                                \r"
     ]
    }
   ],
   "source": [
    "df_trips_data = df_green_sel.unionAll(df_yellow_sel)\n",
    "df_trips_data.groupBy(\"service_type\").count().show()"
   ]
  },
  {
   "cell_type": "code",
   "execution_count": 14,
   "metadata": {},
   "outputs": [
    {
     "data": {
      "text/plain": [
       "['VendorID',\n",
       " 'pickup_datetime',\n",
       " 'dropoff_datetime',\n",
       " 'store_and_fwd_flag',\n",
       " 'RatecodeID',\n",
       " 'PULocationID',\n",
       " 'DOLocationID',\n",
       " 'passenger_count',\n",
       " 'trip_distance',\n",
       " 'fare_amount',\n",
       " 'extra',\n",
       " 'mta_tax',\n",
       " 'tip_amount',\n",
       " 'tolls_amount',\n",
       " 'improvement_surcharge',\n",
       " 'total_amount',\n",
       " 'payment_type',\n",
       " 'congestion_surcharge',\n",
       " 'service_type']"
      ]
     },
     "execution_count": 14,
     "metadata": {},
     "output_type": "execute_result"
    }
   ],
   "source": [
    "df_trips_data.columns"
   ]
  },
  {
   "cell_type": "markdown",
   "metadata": {},
   "source": [
    "## Spark - SQL Queries"
   ]
  },
  {
   "cell_type": "code",
   "execution_count": 16,
   "metadata": {},
   "outputs": [
    {
     "name": "stderr",
     "output_type": "stream",
     "text": [
      "/home/sugab/spark/spark-3.5.1-bin-hadoop3/python/pyspark/sql/dataframe.py:329: FutureWarning: Deprecated in 2.0, use createOrReplaceTempView instead.\n",
      "  warnings.warn(\"Deprecated in 2.0, use createOrReplaceTempView instead.\", FutureWarning)\n"
     ]
    }
   ],
   "source": [
    "# register the dataframe as a temp table\n",
    "df_trips_data.registerTempTable(\"trips_data\")"
   ]
  },
  {
   "cell_type": "code",
   "execution_count": 17,
   "metadata": {},
   "outputs": [
    {
     "name": "stderr",
     "output_type": "stream",
     "text": [
      "[Stage 9:================================================>        (11 + 2) / 13]\r"
     ]
    },
    {
     "name": "stdout",
     "output_type": "stream",
     "text": [
      "+------------+--------+\n",
      "|service_type|count(1)|\n",
      "+------------+--------+\n",
      "|       green| 2802931|\n",
      "|      yellow|55553400|\n",
      "+------------+--------+\n",
      "\n"
     ]
    },
    {
     "name": "stderr",
     "output_type": "stream",
     "text": [
      "                                                                                \r"
     ]
    }
   ],
   "source": [
    "# with temp table, we can run SQL queries\n",
    "spark.sql(\n",
    "    \"\"\"\n",
    "SELECT\n",
    "    service_type,\n",
    "    count(1)\n",
    "FROM\n",
    "    trips_data\n",
    "GROUP BY \n",
    "    service_type\n",
    "\"\"\"\n",
    ").show()"
   ]
  },
  {
   "cell_type": "code",
   "execution_count": 18,
   "metadata": {},
   "outputs": [],
   "source": [
    "# save the query result to a new dataframe\n",
    "df_result = spark.sql(\n",
    "    \"\"\"\n",
    "SELECT \n",
    "    -- Reveneue grouping \n",
    "    PULocationID AS revenue_zone,\n",
    "    date_trunc('month', pickup_datetime) AS revenue_month, \n",
    "    service_type, \n",
    "\n",
    "    -- Revenue calculation \n",
    "    SUM(fare_amount) AS revenue_monthly_fare,\n",
    "    SUM(extra) AS revenue_monthly_extra,\n",
    "    SUM(mta_tax) AS revenue_monthly_mta_tax,\n",
    "    SUM(tip_amount) AS revenue_monthly_tip_amount,\n",
    "    SUM(tolls_amount) AS revenue_monthly_tolls_amount,\n",
    "    SUM(improvement_surcharge) AS revenue_monthly_improvement_surcharge,\n",
    "    SUM(total_amount) AS revenue_monthly_total_amount,\n",
    "    SUM(congestion_surcharge) AS revenue_monthly_congestion_surcharge,\n",
    "\n",
    "    -- Additional calculations\n",
    "    AVG(passenger_count) AS avg_montly_passenger_count,\n",
    "    AVG(trip_distance) AS avg_montly_trip_distance\n",
    "FROM\n",
    "    trips_data\n",
    "GROUP BY\n",
    "    1, 2, 3\n",
    "\"\"\"\n",
    ")"
   ]
  },
  {
   "cell_type": "code",
   "execution_count": 20,
   "metadata": {},
   "outputs": [
    {
     "name": "stderr",
     "output_type": "stream",
     "text": [
      "[Stage 12:===================================================>    (12 + 1) / 13]\r"
     ]
    },
    {
     "name": "stdout",
     "output_type": "stream",
     "text": [
      "+------------+-------------------+------------+--------------------+---------------------+-----------------------+--------------------------+----------------------------+-------------------------------------+----------------------------+------------------------------------+--------------------------+------------------------+\n",
      "|revenue_zone|      revenue_month|service_type|revenue_monthly_fare|revenue_monthly_extra|revenue_monthly_mta_tax|revenue_monthly_tip_amount|revenue_monthly_tolls_amount|revenue_monthly_improvement_surcharge|revenue_monthly_total_amount|revenue_monthly_congestion_surcharge|avg_montly_passenger_count|avg_montly_trip_distance|\n",
      "+------------+-------------------+------------+--------------------+---------------------+-----------------------+--------------------------+----------------------------+-------------------------------------+----------------------------+------------------------------------+--------------------------+------------------------+\n",
      "|         120|2020-01-01 00:00:00|       green|   692.4300000000001|                 5.25|                    7.0|                     21.97|                       12.24|                    8.399999999999999|           752.7899999999998|                                 5.5|        1.1935483870967742|       4.636562500000001|\n",
      "|          82|2020-02-01 00:00:00|       green|  182594.37000000355|              8411.75|                 7522.0|        11186.169999999956|          1384.4299999999944|                    4754.100000001422|          216460.61999997438|                              651.75|        1.4300339071465833|      2.4177718981510306|\n",
      "|          61|2020-02-01 00:00:00|       green|    69339.4300000004|               5996.0|                  893.0|        1025.1799999999996|           741.7500000000003|                    999.8999999999397|           79369.60999999837|                              120.75|        1.2360128617363344|      3.5227986444507238|\n",
      "|         256|2020-03-01 00:00:00|       green|   8952.299999999997|               345.25|                  272.5|        1085.5599999999995|           55.07999999999999|                    184.8000000000013|          11227.139999999968|                               396.0|        1.3303571428571428|       35.09505636070853|\n",
      "|          21|2020-03-01 00:00:00|       green|   7475.610000000002|                 50.5|                   56.0|        19.009999999999998|          140.76000000000002|                     79.4999999999996|           7874.380000000004|                                 0.0|        1.0594059405940595|       7.264398496240604|\n",
      "|         122|2021-10-01 00:00:00|       green|   4374.349999999999|                265.7|                   17.0|                       0.0|          125.09999999999997|                   38.099999999999994|           4822.999999999999|                                 0.0|        1.1025641025641026|      7.0513385826771655|\n",
      "|          94|2021-10-01 00:00:00|       green|   4465.390000000004|               300.95|                   25.0|        33.949999999999996|          189.95000000000007|                    50.09999999999988|           5073.590000000003|                                8.25|        1.4464285714285714|       5.513952095808382|\n",
      "|          49|2020-01-01 00:00:00|       green|   58169.52000000019|               3496.5|                 1246.0|        2424.0899999999997|           554.3200000000004|                    995.3999999999404|            67685.6799999991|                              557.75|        1.1845878136200716|        3.52724736692287|\n",
      "|          72|2020-03-01 00:00:00|       green|  13489.420000000006|                 75.0|                   82.0|                     74.45|           282.2700000000001|                   201.30000000000192|          14354.689999999966|                                 5.5|        1.1338028169014085|       4.815941176470584|\n",
      "|         182|2020-03-01 00:00:00|       green|   9827.600000000004|                105.5|                   92.5|         96.22999999999999|           412.8400000000002|                   168.30000000000067|          10768.619999999992|                                 5.5|        1.2304964539007093|       4.067781456953644|\n",
      "|          50|2021-10-01 00:00:00|       green|  1020.6200000000001|                 88.0|                    0.5|                       0.0|           58.39999999999999|                                  8.7|          1176.2200000000003|                                 0.0|                       1.0|        8.45586206896552|\n",
      "|         229|2020-01-01 00:00:00|       green|  2178.5299999999993|                137.5|                    8.5|                       0.0|                       88.48|                   20.100000000000026|          2433.1099999999997|                                 0.0|                       1.0|       7.693529411764706|\n",
      "|           1|2021-10-01 00:00:00|       green|                90.0|                  0.0|                    0.0|                     22.58|                         0.0|                                  0.3|                      112.88|                                 0.0|                       1.0|                    0.04|\n",
      "|          53|2021-10-01 00:00:00|       green|  1407.8399999999995|                72.25|                    4.5|                      6.08|                       32.75|                   11.700000000000006|          1535.1200000000006|                                 0.0|        1.2857142857142858|       8.806410256410256|\n",
      "|         186|2021-10-01 00:00:00|       green|  1510.7700000000002|               100.35|                    0.5|                     10.46|           67.94999999999999|                   11.400000000000006|          1704.1800000000007|                                 0.0|                       1.0|      10.187631578947366|\n",
      "|         154|2020-02-01 00:00:00|       green|               414.3|                 28.0|                    2.0|                       0.0|                        2.29|                    3.599999999999999|                      450.19|                                 0.0|                       1.0|       7.059230769230769|\n",
      "|          32|2020-01-01 00:00:00|       green|  16687.059999999965|              1131.75|                  113.5|         74.99999999999997|           917.1699999999997|                     177.300000000001|          19107.629999999957|                                 5.5|        1.3095238095238095|        6.41725038402458|\n",
      "|          14|2020-01-01 00:00:00|       green|   44186.50999999995|               2549.0|                  345.5|                     257.0|           1285.889999999997|                    412.2000000000099|           49090.69999999992|                               74.25|        1.0737704918032787|       6.876796973518283|\n",
      "|         128|2020-01-01 00:00:00|       green|  3261.3300000000004|                158.0|                   35.5|         82.25000000000001|          104.04000000000002|                    34.50000000000003|          3714.0200000000004|                                27.5|        1.0169491525423728|                 7.02328|\n",
      "|          47|2020-02-01 00:00:00|       green|  13825.300000000025|              1181.25|                  122.5|         66.65999999999998|           458.9700000000003|                    174.6000000000009|          15851.980000000001|                                11.0|        1.1617021276595745|       4.698445512820511|\n",
      "+------------+-------------------+------------+--------------------+---------------------+-----------------------+--------------------------+----------------------------+-------------------------------------+----------------------------+------------------------------------+--------------------------+------------------------+\n",
      "only showing top 20 rows\n",
      "\n"
     ]
    },
    {
     "name": "stderr",
     "output_type": "stream",
     "text": [
      "                                                                                \r"
     ]
    }
   ],
   "source": [
    "# show the result\n",
    "df_result.show()"
   ]
  },
  {
   "cell_type": "code",
   "execution_count": 21,
   "metadata": {},
   "outputs": [
    {
     "name": "stderr",
     "output_type": "stream",
     "text": [
      "                                                                                \r"
     ]
    }
   ],
   "source": [
    "# save the result to parquet\n",
    "# with coalesce(1) we can save the result as a single file (remove partitioning)\n",
    "df_result.coalesce(1).write.parquet(\"data/report/revenue/\", mode=\"overwrite\")"
   ]
  }
 ],
 "metadata": {
  "kernelspec": {
   "display_name": "base",
   "language": "python",
   "name": "python3"
  },
  "language_info": {
   "codemirror_mode": {
    "name": "ipython",
    "version": 3
   },
   "file_extension": ".py",
   "mimetype": "text/x-python",
   "name": "python",
   "nbconvert_exporter": "python",
   "pygments_lexer": "ipython3",
   "version": "3.11.5"
  }
 },
 "nbformat": 4,
 "nbformat_minor": 2
}
