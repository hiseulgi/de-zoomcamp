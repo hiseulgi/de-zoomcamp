{
 "cells": [
  {
   "cell_type": "code",
   "execution_count": 1,
   "metadata": {},
   "outputs": [
    {
     "name": "stderr",
     "output_type": "stream",
     "text": [
      "24/03/03 10:53:51 WARN Utils: Your hostname, sugab-archlinux resolves to a loopback address: 127.0.1.1; using 192.168.81.206 instead (on interface wlan0)\n",
      "24/03/03 10:53:51 WARN Utils: Set SPARK_LOCAL_IP if you need to bind to another address\n",
      "Setting default log level to \"WARN\".\n",
      "To adjust logging level use sc.setLogLevel(newLevel). For SparkR, use setLogLevel(newLevel).\n",
      "24/03/03 10:53:53 WARN NativeCodeLoader: Unable to load native-hadoop library for your platform... using builtin-java classes where applicable\n"
     ]
    }
   ],
   "source": [
    "import pyspark\n",
    "from pyspark.sql import SparkSession\n",
    "\n",
    "spark = SparkSession.builder \\\n",
    "    .master(\"local[*]\") \\\n",
    "    .appName('test') \\\n",
    "    .getOrCreate()"
   ]
  },
  {
   "cell_type": "markdown",
   "metadata": {},
   "source": [
    "## Group By"
   ]
  },
  {
   "cell_type": "code",
   "execution_count": 2,
   "metadata": {},
   "outputs": [
    {
     "name": "stderr",
     "output_type": "stream",
     "text": [
      "                                                                                \r"
     ]
    }
   ],
   "source": [
    "df_green = spark.read.parquet(\"data/raw/green/*/*\")"
   ]
  },
  {
   "cell_type": "code",
   "execution_count": 3,
   "metadata": {},
   "outputs": [
    {
     "name": "stderr",
     "output_type": "stream",
     "text": [
      "/home/sugab/spark/spark-3.5.1-bin-hadoop3/python/pyspark/sql/dataframe.py:329: FutureWarning: Deprecated in 2.0, use createOrReplaceTempView instead.\n",
      "  warnings.warn(\"Deprecated in 2.0, use createOrReplaceTempView instead.\", FutureWarning)\n"
     ]
    }
   ],
   "source": [
    "df_green.registerTempTable('green')"
   ]
  },
  {
   "cell_type": "code",
   "execution_count": 4,
   "metadata": {},
   "outputs": [],
   "source": [
    "df_green_revenue = spark.sql(\n",
    "    \"\"\"\n",
    "SELECT \n",
    "    date_trunc('hour', lpep_pickup_datetime) AS hour, \n",
    "    PULocationID AS zone,\n",
    "\n",
    "    SUM(total_amount) AS amount,\n",
    "    COUNT(1) AS number_records\n",
    "FROM\n",
    "    green\n",
    "WHERE\n",
    "    lpep_pickup_datetime >= '2020-01-01 00:00:00'\n",
    "GROUP BY\n",
    "    1, 2\n",
    "\"\"\"\n",
    ")"
   ]
  },
  {
   "cell_type": "code",
   "execution_count": 5,
   "metadata": {},
   "outputs": [
    {
     "name": "stderr",
     "output_type": "stream",
     "text": [
      "                                                                                \r"
     ]
    }
   ],
   "source": [
    "df_green_revenue \\\n",
    "    .repartition(20) \\\n",
    "    .write.parquet('data/report/revenue/green', mode='overwrite')"
   ]
  },
  {
   "cell_type": "code",
   "execution_count": 6,
   "metadata": {},
   "outputs": [],
   "source": [
    "df_yellow = spark.read.parquet(\"data/raw/yellow/*/*\")\n",
    "df_yellow.registerTempTable(\"yellow\")"
   ]
  },
  {
   "cell_type": "code",
   "execution_count": 7,
   "metadata": {},
   "outputs": [],
   "source": [
    "df_yellow_revenue = spark.sql(\n",
    "    \"\"\"\n",
    "SELECT \n",
    "    date_trunc('hour', tpep_pickup_datetime) AS hour, \n",
    "    PULocationID AS zone,\n",
    "\n",
    "    SUM(total_amount) AS amount,\n",
    "    COUNT(1) AS number_records\n",
    "FROM\n",
    "    yellow\n",
    "WHERE\n",
    "    tpep_pickup_datetime >= '2020-01-01 00:00:00'\n",
    "GROUP BY\n",
    "    1, 2\n",
    "\"\"\"\n",
    ")"
   ]
  },
  {
   "cell_type": "code",
   "execution_count": 8,
   "metadata": {},
   "outputs": [
    {
     "name": "stderr",
     "output_type": "stream",
     "text": [
      "                                                                                \r"
     ]
    }
   ],
   "source": [
    "df_yellow_revenue \\\n",
    "    .repartition(20) \\\n",
    "    .write.parquet('data/report/revenue/yellow', mode='overwrite')"
   ]
  },
  {
   "cell_type": "markdown",
   "metadata": {},
   "source": [
    "## Join"
   ]
  },
  {
   "cell_type": "markdown",
   "metadata": {},
   "source": [
    "### 2 Large Dataset"
   ]
  },
  {
   "cell_type": "code",
   "execution_count": 9,
   "metadata": {},
   "outputs": [],
   "source": [
    "df_green_revenue = spark.read.parquet(\"data/report/revenue/green\")\n",
    "df_yellow_revenue = spark.read.parquet(\"data/report/revenue/yellow\")"
   ]
  },
  {
   "cell_type": "code",
   "execution_count": 10,
   "metadata": {},
   "outputs": [],
   "source": [
    "df_green_revenue_tmp = df_green_revenue \\\n",
    "    .withColumnRenamed('amount', 'green_amount') \\\n",
    "    .withColumnRenamed('number_records', 'green_number_records')\n",
    "\n",
    "df_yellow_revenue_tmp = df_yellow_revenue \\\n",
    "    .withColumnRenamed('amount', 'yellow_amount') \\\n",
    "    .withColumnRenamed('number_records', 'yellow_number_records')"
   ]
  },
  {
   "cell_type": "code",
   "execution_count": 11,
   "metadata": {},
   "outputs": [
    {
     "name": "stderr",
     "output_type": "stream",
     "text": [
      "                                                                                \r"
     ]
    },
    {
     "name": "stdout",
     "output_type": "stream",
     "text": [
      "+-------------------+----+------------------+--------------------+------------------+---------------------+\n",
      "|               hour|zone|      green_amount|green_number_records|     yellow_amount|yellow_number_records|\n",
      "+-------------------+----+------------------+--------------------+------------------+---------------------+\n",
      "|2020-01-01 00:00:00|  10|              NULL|                NULL|             42.41|                    2|\n",
      "|2020-01-01 00:00:00|  17|            195.03|                   9|220.20999999999998|                    8|\n",
      "|2020-01-01 00:00:00|  45|              NULL|                NULL| 732.4799999999997|                   42|\n",
      "|2020-01-01 00:00:00|  49|            266.76|                  14|            185.65|                   10|\n",
      "|2020-01-01 00:00:00|  59|50.900000000000006|                   3|              NULL|                 NULL|\n",
      "|2020-01-01 00:00:00|  65|            199.49|                  10| 409.3500000000001|                   19|\n",
      "|2020-01-01 00:00:00|  74| 317.0900000000001|                  24|            586.21|                   47|\n",
      "|2020-01-01 00:00:00|  76|            143.78|                   4|             35.51|                    2|\n",
      "|2020-01-01 00:00:00|  77| 75.99000000000001|                   2|            134.24|                    3|\n",
      "|2020-01-01 00:00:00|  79|              NULL|                NULL|12573.809999999945|                  721|\n",
      "|2020-01-01 00:00:00|  87|              NULL|                NULL|           2456.67|                  112|\n",
      "|2020-01-01 00:00:00|  90|              NULL|                NULL|  5010.45000000001|                  266|\n",
      "|2020-01-01 00:00:00|  92|             80.72|                   3|              75.3|                    1|\n",
      "|2020-01-01 00:00:00|  94| 64.24000000000001|                   3|              13.3|                    1|\n",
      "|2020-01-01 00:00:00|  97| 786.1799999999998|                  25|403.02000000000004|                   20|\n",
      "|2020-01-01 00:00:00| 106|             10.56|                   1|              NULL|                 NULL|\n",
      "|2020-01-01 00:00:00| 108|              NULL|                NULL|              18.8|                    1|\n",
      "|2020-01-01 00:00:00| 113|              NULL|                NULL|3984.3200000000083|                  220|\n",
      "|2020-01-01 00:00:00| 116|328.76000000000005|                  18| 561.5100000000001|                   34|\n",
      "|2020-01-01 00:00:00| 119| 67.77000000000001|                   4|              47.3|                    2|\n",
      "+-------------------+----+------------------+--------------------+------------------+---------------------+\n",
      "only showing top 20 rows\n",
      "\n"
     ]
    }
   ],
   "source": [
    "df_join = df_green_revenue_tmp.join(df_yellow_revenue_tmp, on=['hour', 'zone'], how='outer')\n",
    "df_join.show()"
   ]
  },
  {
   "cell_type": "code",
   "execution_count": 12,
   "metadata": {},
   "outputs": [
    {
     "name": "stderr",
     "output_type": "stream",
     "text": [
      "                                                                                \r"
     ]
    }
   ],
   "source": [
    "df_join.write.parquet(\"data/report/revenue/total\", mode=\"overwrite\")"
   ]
  },
  {
   "cell_type": "markdown",
   "metadata": {},
   "source": [
    "## Large Dataset and Small Dataset"
   ]
  },
  {
   "cell_type": "code",
   "execution_count": 13,
   "metadata": {},
   "outputs": [
    {
     "name": "stdout",
     "output_type": "stream",
     "text": [
      "+-------------------+----+-----------------+--------------------+------------------+---------------------+\n",
      "|               hour|zone|     green_amount|green_number_records|     yellow_amount|yellow_number_records|\n",
      "+-------------------+----+-----------------+--------------------+------------------+---------------------+\n",
      "|2020-01-01 00:00:00|   4|             NULL|                NULL|1004.2999999999995|                   57|\n",
      "|2020-01-01 00:00:00|   7|769.7299999999997|                  45| 455.1700000000002|                   38|\n",
      "|2020-01-01 00:00:00|  12|             NULL|                NULL|             107.0|                    6|\n",
      "|2020-01-01 00:00:00|  13|             NULL|                NULL|1214.7999999999993|                   56|\n",
      "|2020-01-01 00:00:00|  24|             87.6|                   3| 754.9499999999997|                   45|\n",
      "+-------------------+----+-----------------+--------------------+------------------+---------------------+\n",
      "only showing top 5 rows\n",
      "\n"
     ]
    }
   ],
   "source": [
    "df_join = spark.read.parquet(\"data/report/revenue/total\")\n",
    "df_join.show(5)"
   ]
  },
  {
   "cell_type": "code",
   "execution_count": 17,
   "metadata": {},
   "outputs": [
    {
     "name": "stdout",
     "output_type": "stream",
     "text": [
      "+----------+-------------+--------------------+------------+\n",
      "|LocationID|      Borough|                Zone|service_zone|\n",
      "+----------+-------------+--------------------+------------+\n",
      "|         1|          EWR|      Newark Airport|         EWR|\n",
      "|         2|       Queens|         Jamaica Bay|   Boro Zone|\n",
      "|         3|        Bronx|Allerton/Pelham G...|   Boro Zone|\n",
      "|         4|    Manhattan|       Alphabet City| Yellow Zone|\n",
      "|         5|Staten Island|       Arden Heights|   Boro Zone|\n",
      "+----------+-------------+--------------------+------------+\n",
      "only showing top 5 rows\n",
      "\n"
     ]
    }
   ],
   "source": [
    "df_zones = spark.read.parquet('zones/')\n",
    "df_zones.show(5)"
   ]
  },
  {
   "cell_type": "code",
   "execution_count": 18,
   "metadata": {},
   "outputs": [
    {
     "name": "stdout",
     "output_type": "stream",
     "text": [
      "+-------------------+----+-----------------+--------------------+------------------+---------------------+----------+---------+-----------------+------------+\n",
      "|               hour|zone|     green_amount|green_number_records|     yellow_amount|yellow_number_records|LocationID|  Borough|             Zone|service_zone|\n",
      "+-------------------+----+-----------------+--------------------+------------------+---------------------+----------+---------+-----------------+------------+\n",
      "|2020-01-01 00:00:00|   4|             NULL|                NULL|1004.2999999999995|                   57|         4|Manhattan|    Alphabet City| Yellow Zone|\n",
      "|2020-01-01 00:00:00|   7|769.7299999999997|                  45| 455.1700000000002|                   38|         7|   Queens|          Astoria|   Boro Zone|\n",
      "|2020-01-01 00:00:00|  12|             NULL|                NULL|             107.0|                    6|        12|Manhattan|     Battery Park| Yellow Zone|\n",
      "|2020-01-01 00:00:00|  13|             NULL|                NULL|1214.7999999999993|                   56|        13|Manhattan|Battery Park City| Yellow Zone|\n",
      "|2020-01-01 00:00:00|  24|             87.6|                   3| 754.9499999999997|                   45|        24|Manhattan|     Bloomingdale| Yellow Zone|\n",
      "+-------------------+----+-----------------+--------------------+------------------+---------------------+----------+---------+-----------------+------------+\n",
      "only showing top 5 rows\n",
      "\n"
     ]
    }
   ],
   "source": [
    "df_result = df_join.join(df_zones, df_join.zone == df_zones.LocationID)\n",
    "df_result.show(5)"
   ]
  },
  {
   "cell_type": "code",
   "execution_count": 19,
   "metadata": {},
   "outputs": [
    {
     "name": "stderr",
     "output_type": "stream",
     "text": [
      "                                                                                \r"
     ]
    }
   ],
   "source": [
    "df_result.drop(\"LocationID\", \"zone\").write.parquet(\"tmp/revenue-zones\")"
   ]
  }
 ],
 "metadata": {
  "kernelspec": {
   "display_name": "base",
   "language": "python",
   "name": "python3"
  },
  "language_info": {
   "codemirror_mode": {
    "name": "ipython",
    "version": 3
   },
   "file_extension": ".py",
   "mimetype": "text/x-python",
   "name": "python",
   "nbconvert_exporter": "python",
   "pygments_lexer": "ipython3",
   "version": "3.11.5"
  }
 },
 "nbformat": 4,
 "nbformat_minor": 2
}
